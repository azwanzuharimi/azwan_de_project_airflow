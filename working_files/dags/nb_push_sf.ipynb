{
 "cells": [
  {
   "cell_type": "code",
   "execution_count": 18,
   "metadata": {},
   "outputs": [
    {
     "data": {
      "text/plain": [
       "True"
      ]
     },
     "execution_count": 18,
     "metadata": {},
     "output_type": "execute_result"
    }
   ],
   "source": [
    "import pandas as pd\n",
    "import requests\n",
    "from glob import glob\n",
    "\n",
    "from snowflake.connector.pandas_tools import pd_writer\n",
    "import snowflake.connector.pandas_tools\n",
    "import snowflake.connector\n",
    "from datetime import datetime\n",
    "from pathlib import Path, PurePosixPath\n",
    "\n",
    "import os\n",
    "from dotenv import load_dotenv\n",
    "load_dotenv()"
   ]
  },
  {
   "cell_type": "code",
   "execution_count": 40,
   "metadata": {},
   "outputs": [],
   "source": [
    "ctx = snowflake.connector.connect(  user=       os.environ['USER'],\n",
    "                                    password=   os.environ['PASSWORD'],\n",
    "                                    account=    os.environ['ACCOUNT'],\n",
    "                                    warehouse=  os.environ['WH'],\n",
    "                                    database=   os.environ['DB'],\n",
    "                                    schema=     os.environ['SCHEMA'],\n",
    "                                    role=       os.environ['ROLE'])\n",
    "\n",
    "# Get maximum date of data loaded so that we only import new data\n",
    "a = ctx.cursor().execute(\"SELECT MAX(CAST(DATE/1000000 as timestamp)) as date FROM PRICE_CATCHER.raw.aeon\")\n"
   ]
  },
  {
   "cell_type": "code",
   "execution_count": 41,
   "metadata": {},
   "outputs": [
    {
     "data": {
      "text/html": [
       "<div>\n",
       "<style scoped>\n",
       "    .dataframe tbody tr th:only-of-type {\n",
       "        vertical-align: middle;\n",
       "    }\n",
       "\n",
       "    .dataframe tbody tr th {\n",
       "        vertical-align: top;\n",
       "    }\n",
       "\n",
       "    .dataframe thead th {\n",
       "        text-align: right;\n",
       "    }\n",
       "</style>\n",
       "<table border=\"1\" class=\"dataframe\">\n",
       "  <thead>\n",
       "    <tr style=\"text-align: right;\">\n",
       "      <th></th>\n",
       "      <th>DATE</th>\n",
       "    </tr>\n",
       "  </thead>\n",
       "  <tbody>\n",
       "    <tr>\n",
       "      <th>0</th>\n",
       "      <td>2022-01-31</td>\n",
       "    </tr>\n",
       "  </tbody>\n",
       "</table>\n",
       "</div>"
      ],
      "text/plain": [
       "        DATE\n",
       "0 2022-01-31"
      ]
     },
     "execution_count": 41,
     "metadata": {},
     "output_type": "execute_result"
    }
   ],
   "source": [
    "import pandas as pd\n",
    "df = a.fetch_pandas_all()\n",
    "df.head()"
   ]
  },
  {
   "cell_type": "code",
   "execution_count": 50,
   "metadata": {},
   "outputs": [
    {
     "data": {
      "text/plain": [
       "'2022-01-31'"
      ]
     },
     "execution_count": 50,
     "metadata": {},
     "output_type": "execute_result"
    }
   ],
   "source": [
    "try:\n",
    "    date_existing = df.DATE.dt.date.values[0].isoformat()\n",
    "except:\n",
    "    date_existing = '2020-01-01' # Set default value of the above contains nothing\n",
    "date_existing"
   ]
  },
  {
   "cell_type": "code",
   "execution_count": 51,
   "metadata": {},
   "outputs": [
    {
     "data": {
      "text/html": [
       "<div>\n",
       "<style scoped>\n",
       "    .dataframe tbody tr th:only-of-type {\n",
       "        vertical-align: middle;\n",
       "    }\n",
       "\n",
       "    .dataframe tbody tr th {\n",
       "        vertical-align: top;\n",
       "    }\n",
       "\n",
       "    .dataframe thead th {\n",
       "        text-align: right;\n",
       "    }\n",
       "</style>\n",
       "<table border=\"1\" class=\"dataframe\">\n",
       "  <thead>\n",
       "    <tr style=\"text-align: right;\">\n",
       "      <th></th>\n",
       "      <th>date</th>\n",
       "      <th>premise_code</th>\n",
       "      <th>item_code</th>\n",
       "      <th>price</th>\n",
       "      <th>premise</th>\n",
       "      <th>address</th>\n",
       "      <th>premise_type</th>\n",
       "      <th>state</th>\n",
       "      <th>district</th>\n",
       "      <th>item</th>\n",
       "      <th>unit</th>\n",
       "      <th>item_group</th>\n",
       "      <th>item_category</th>\n",
       "      <th>etl_time</th>\n",
       "    </tr>\n",
       "  </thead>\n",
       "  <tbody>\n",
       "    <tr>\n",
       "      <th>45138</th>\n",
       "      <td>2022-01-01</td>\n",
       "      <td>3178</td>\n",
       "      <td>1</td>\n",
       "      <td>8.89</td>\n",
       "      <td>AEON BIG SUBANG JAYA</td>\n",
       "      <td>NO 3 JALAN SS16/1,47500 SUBANG JAYA, SELANGOR ...</td>\n",
       "      <td>Hypermarket</td>\n",
       "      <td>Selangor</td>\n",
       "      <td>Petaling</td>\n",
       "      <td>AYAM BERSIH - STANDARD</td>\n",
       "      <td>1kg</td>\n",
       "      <td>BARANGAN SEGAR</td>\n",
       "      <td>AYAM</td>\n",
       "      <td>2024-05-27T02:21:30.908243</td>\n",
       "    </tr>\n",
       "    <tr>\n",
       "      <th>45139</th>\n",
       "      <td>2022-01-01</td>\n",
       "      <td>3178</td>\n",
       "      <td>9</td>\n",
       "      <td>35.90</td>\n",
       "      <td>AEON BIG SUBANG JAYA</td>\n",
       "      <td>NO 3 JALAN SS16/1,47500 SUBANG JAYA, SELANGOR ...</td>\n",
       "      <td>Hypermarket</td>\n",
       "      <td>Selangor</td>\n",
       "      <td>Petaling</td>\n",
       "      <td>DAGING KAMBING BEBIRI IMPORT BERTULANG (MUTTON...</td>\n",
       "      <td>1kg</td>\n",
       "      <td>BARANGAN SEGAR</td>\n",
       "      <td>DAGING</td>\n",
       "      <td>2024-05-27T02:21:30.908243</td>\n",
       "    </tr>\n",
       "    <tr>\n",
       "      <th>45140</th>\n",
       "      <td>2022-01-01</td>\n",
       "      <td>3178</td>\n",
       "      <td>16</td>\n",
       "      <td>6.30</td>\n",
       "      <td>AEON BIG SUBANG JAYA</td>\n",
       "      <td>NO 3 JALAN SS16/1,47500 SUBANG JAYA, SELANGOR ...</td>\n",
       "      <td>Hypermarket</td>\n",
       "      <td>Selangor</td>\n",
       "      <td>Petaling</td>\n",
       "      <td>BETIK BIASA</td>\n",
       "      <td>1kg</td>\n",
       "      <td>BARANGAN SEGAR</td>\n",
       "      <td>BUAH-BUAHAN</td>\n",
       "      <td>2024-05-27T02:21:30.908243</td>\n",
       "    </tr>\n",
       "    <tr>\n",
       "      <th>45141</th>\n",
       "      <td>2022-01-01</td>\n",
       "      <td>3178</td>\n",
       "      <td>18</td>\n",
       "      <td>5.90</td>\n",
       "      <td>AEON BIG SUBANG JAYA</td>\n",
       "      <td>NO 3 JALAN SS16/1,47500 SUBANG JAYA, SELANGOR ...</td>\n",
       "      <td>Hypermarket</td>\n",
       "      <td>Selangor</td>\n",
       "      <td>Petaling</td>\n",
       "      <td>PISANG BERANGAN</td>\n",
       "      <td>1kg</td>\n",
       "      <td>BARANGAN SEGAR</td>\n",
       "      <td>BUAH-BUAHAN</td>\n",
       "      <td>2024-05-27T02:21:30.908243</td>\n",
       "    </tr>\n",
       "    <tr>\n",
       "      <th>45142</th>\n",
       "      <td>2022-01-01</td>\n",
       "      <td>3178</td>\n",
       "      <td>19</td>\n",
       "      <td>6.50</td>\n",
       "      <td>AEON BIG SUBANG JAYA</td>\n",
       "      <td>NO 3 JALAN SS16/1,47500 SUBANG JAYA, SELANGOR ...</td>\n",
       "      <td>Hypermarket</td>\n",
       "      <td>Selangor</td>\n",
       "      <td>Petaling</td>\n",
       "      <td>PISANG EMAS</td>\n",
       "      <td>1kg</td>\n",
       "      <td>BARANGAN SEGAR</td>\n",
       "      <td>BUAH-BUAHAN</td>\n",
       "      <td>2024-05-27T02:21:30.908243</td>\n",
       "    </tr>\n",
       "  </tbody>\n",
       "</table>\n",
       "</div>"
      ],
      "text/plain": [
       "            date  premise_code  item_code  price               premise  \\\n",
       "45138 2022-01-01          3178          1   8.89  AEON BIG SUBANG JAYA   \n",
       "45139 2022-01-01          3178          9  35.90  AEON BIG SUBANG JAYA   \n",
       "45140 2022-01-01          3178         16   6.30  AEON BIG SUBANG JAYA   \n",
       "45141 2022-01-01          3178         18   5.90  AEON BIG SUBANG JAYA   \n",
       "45142 2022-01-01          3178         19   6.50  AEON BIG SUBANG JAYA   \n",
       "\n",
       "                                                 address premise_type  \\\n",
       "45138  NO 3 JALAN SS16/1,47500 SUBANG JAYA, SELANGOR ...  Hypermarket   \n",
       "45139  NO 3 JALAN SS16/1,47500 SUBANG JAYA, SELANGOR ...  Hypermarket   \n",
       "45140  NO 3 JALAN SS16/1,47500 SUBANG JAYA, SELANGOR ...  Hypermarket   \n",
       "45141  NO 3 JALAN SS16/1,47500 SUBANG JAYA, SELANGOR ...  Hypermarket   \n",
       "45142  NO 3 JALAN SS16/1,47500 SUBANG JAYA, SELANGOR ...  Hypermarket   \n",
       "\n",
       "          state  district                                               item  \\\n",
       "45138  Selangor  Petaling                             AYAM BERSIH - STANDARD   \n",
       "45139  Selangor  Petaling  DAGING KAMBING BEBIRI IMPORT BERTULANG (MUTTON...   \n",
       "45140  Selangor  Petaling                                        BETIK BIASA   \n",
       "45141  Selangor  Petaling                                    PISANG BERANGAN   \n",
       "45142  Selangor  Petaling                                        PISANG EMAS   \n",
       "\n",
       "      unit      item_group item_category                    etl_time  \n",
       "45138  1kg  BARANGAN SEGAR          AYAM  2024-05-27T02:21:30.908243  \n",
       "45139  1kg  BARANGAN SEGAR        DAGING  2024-05-27T02:21:30.908243  \n",
       "45140  1kg  BARANGAN SEGAR   BUAH-BUAHAN  2024-05-27T02:21:30.908243  \n",
       "45141  1kg  BARANGAN SEGAR   BUAH-BUAHAN  2024-05-27T02:21:30.908243  \n",
       "45142  1kg  BARANGAN SEGAR   BUAH-BUAHAN  2024-05-27T02:21:30.908243  "
      ]
     },
     "execution_count": 51,
     "metadata": {},
     "output_type": "execute_result"
    }
   ],
   "source": [
    "data_path = Path().absolute().as_posix().split('working_files')[0]  + '/working_files/data'\n",
    "\n",
    "df_raw = pd.read_parquet(data_path + '/price_catcher_raw/aeon.parquet')\n",
    "df_raw.head()"
   ]
  },
  {
   "cell_type": "code",
   "execution_count": 52,
   "metadata": {},
   "outputs": [
    {
     "data": {
      "text/plain": [
       "'2022-01-31'"
      ]
     },
     "execution_count": 52,
     "metadata": {},
     "output_type": "execute_result"
    }
   ],
   "source": [
    "new_date = df_raw['date'].max().date().isoformat()\n",
    "new_date"
   ]
  },
  {
   "cell_type": "code",
   "execution_count": 54,
   "metadata": {},
   "outputs": [
    {
     "name": "stdout",
     "output_type": "stream",
     "text": [
      "0\n"
     ]
    }
   ],
   "source": [
    "df_to_load = df_raw[df_raw['date'] > date_existing]\n",
    "print(len(df_to_load))"
   ]
  },
  {
   "cell_type": "code",
   "execution_count": 55,
   "metadata": {},
   "outputs": [
    {
     "data": {
      "text/html": [
       "<div>\n",
       "<style scoped>\n",
       "    .dataframe tbody tr th:only-of-type {\n",
       "        vertical-align: middle;\n",
       "    }\n",
       "\n",
       "    .dataframe tbody tr th {\n",
       "        vertical-align: top;\n",
       "    }\n",
       "\n",
       "    .dataframe thead th {\n",
       "        text-align: right;\n",
       "    }\n",
       "</style>\n",
       "<table border=\"1\" class=\"dataframe\">\n",
       "  <thead>\n",
       "    <tr style=\"text-align: right;\">\n",
       "      <th></th>\n",
       "      <th>date</th>\n",
       "      <th>premise_code</th>\n",
       "      <th>item_code</th>\n",
       "      <th>price</th>\n",
       "      <th>premise</th>\n",
       "      <th>address</th>\n",
       "      <th>premise_type</th>\n",
       "      <th>state</th>\n",
       "      <th>district</th>\n",
       "      <th>item</th>\n",
       "      <th>unit</th>\n",
       "      <th>item_group</th>\n",
       "      <th>item_category</th>\n",
       "      <th>etl_time</th>\n",
       "    </tr>\n",
       "  </thead>\n",
       "  <tbody>\n",
       "  </tbody>\n",
       "</table>\n",
       "</div>"
      ],
      "text/plain": [
       "Empty DataFrame\n",
       "Columns: [date, premise_code, item_code, price, premise, address, premise_type, state, district, item, unit, item_group, item_category, etl_time]\n",
       "Index: []"
      ]
     },
     "execution_count": 55,
     "metadata": {},
     "output_type": "execute_result"
    }
   ],
   "source": [
    "df_to_load"
   ]
  },
  {
   "cell_type": "code",
   "execution_count": 39,
   "metadata": {},
   "outputs": [
    {
     "name": "stderr",
     "output_type": "stream",
     "text": [
      "C:\\Users\\AzwanDesktop\\AppData\\Local\\Temp\\ipykernel_26240\\2576786249.py:1: UserWarning: Pandas Dataframe has non-standard index of type <class 'pandas.core.indexes.base.Index'> which will not be written. Consider changing the index to pd.RangeIndex(start=0,...,step=1) or call reset_index() to keep index as column(s)\n",
      "  snowflake.connector.pandas_tools.write_pandas(\n"
     ]
    },
    {
     "data": {
      "text/plain": [
       "(True,\n",
       " 1,\n",
       " 3096,\n",
       " [('ujnwskjldm/file0.txt',\n",
       "   'LOADED',\n",
       "   3096,\n",
       "   3096,\n",
       "   1,\n",
       "   0,\n",
       "   None,\n",
       "   None,\n",
       "   None,\n",
       "   None)])"
      ]
     },
     "execution_count": 39,
     "metadata": {},
     "output_type": "execute_result"
    }
   ],
   "source": [
    "snowflake.connector.pandas_tools.write_pandas(\n",
    "    conn=ctx,\n",
    "    df = df_to_load,\n",
    "    table_name='AEON',\n",
    "    database='PRICE_CATCHER',\n",
    "    schema='RAW', quote_identifiers=False\n",
    ")"
   ]
  }
 ],
 "metadata": {
  "kernelspec": {
   "display_name": "Python 3",
   "language": "python",
   "name": "python3"
  },
  "language_info": {
   "codemirror_mode": {
    "name": "ipython",
    "version": 3
   },
   "file_extension": ".py",
   "mimetype": "text/x-python",
   "name": "python",
   "nbconvert_exporter": "python",
   "pygments_lexer": "ipython3",
   "version": "3.10.3"
  }
 },
 "nbformat": 4,
 "nbformat_minor": 2
}
