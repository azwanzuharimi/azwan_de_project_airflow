{
 "cells": [
  {
   "cell_type": "code",
   "execution_count": 1,
   "id": "d4030fb1",
   "metadata": {
    "execution": {
     "iopub.execute_input": "2024-05-30T08:52:54.493036Z",
     "iopub.status.busy": "2024-05-30T08:52:54.492102Z",
     "iopub.status.idle": "2024-05-30T08:52:54.502119Z",
     "shell.execute_reply": "2024-05-30T08:52:54.501233Z"
    },
    "papermill": {
     "duration": 0.020794,
     "end_time": "2024-05-30T08:52:54.504101",
     "exception": false,
     "start_time": "2024-05-30T08:52:54.483307",
     "status": "completed"
    },
    "tags": [
     "injected-parameters"
    ]
   },
   "outputs": [],
   "source": [
    "# Parameters\n",
    "date = \"2022-02\"\n"
   ]
  },
  {
   "cell_type": "code",
   "execution_count": 2,
   "id": "c6f2885a",
   "metadata": {
    "execution": {
     "iopub.execute_input": "2024-05-30T08:52:54.521567Z",
     "iopub.status.busy": "2024-05-30T08:52:54.521276Z",
     "iopub.status.idle": "2024-05-30T08:52:54.873460Z",
     "shell.execute_reply": "2024-05-30T08:52:54.872720Z"
    },
    "papermill": {
     "duration": 0.363877,
     "end_time": "2024-05-30T08:52:54.875227",
     "exception": false,
     "start_time": "2024-05-30T08:52:54.511350",
     "status": "completed"
    },
    "tags": []
   },
   "outputs": [],
   "source": [
    "import pandas as pd\n",
    "\n",
    "from datetime import datetime\n",
    "from pathlib import Path, PurePosixPath"
   ]
  },
  {
   "cell_type": "code",
   "execution_count": 3,
   "id": "c32b7417",
   "metadata": {
    "execution": {
     "iopub.execute_input": "2024-05-30T08:52:54.893844Z",
     "iopub.status.busy": "2024-05-30T08:52:54.892360Z",
     "iopub.status.idle": "2024-05-30T08:52:54.897870Z",
     "shell.execute_reply": "2024-05-30T08:52:54.897322Z"
    },
    "papermill": {
     "duration": 0.017816,
     "end_time": "2024-05-30T08:52:54.899368",
     "exception": false,
     "start_time": "2024-05-30T08:52:54.881552",
     "status": "completed"
    },
    "tags": []
   },
   "outputs": [
    {
     "name": "stdout",
     "output_type": "stream",
     "text": [
      "/usr/local/airflow/working_files/data\n"
     ]
    }
   ],
   "source": [
    "# Note: This is for us to able to change where we run this code (either in my PC or Docker environment or from Airflow engine)\n",
    "# In Docker env follows Linux - e.g /usr/local/airflow//working_files/data\n",
    "# In PC follows Windows       - e.g. C:/Users/Azwan/Folder/DOSM/airflow/workingfiles/data/....\n",
    "\n",
    "# In Docker\n",
    "# -----------\n",
    "# If we run manually from inside notebook in Docker, the notebook will be running from           /usr/local/airflow/working_files\n",
    "# But if run from Airflow engine, it will run from entrypoint.sh $AIRFLOW_HOME variable which is /usr/local/airflow\n",
    "# The following is a workaround\n",
    "\n",
    "data_path = Path().absolute().as_posix().split('working_files')[0]  + '/working_files/data'\n",
    "print(data_path)"
   ]
  },
  {
   "cell_type": "code",
   "execution_count": 4,
   "id": "ec1a0907",
   "metadata": {
    "execution": {
     "iopub.execute_input": "2024-05-30T08:52:54.915862Z",
     "iopub.status.busy": "2024-05-30T08:52:54.915612Z",
     "iopub.status.idle": "2024-05-30T08:52:56.153605Z",
     "shell.execute_reply": "2024-05-30T08:52:56.152681Z"
    },
    "papermill": {
     "duration": 1.249004,
     "end_time": "2024-05-30T08:52:56.155412",
     "exception": false,
     "start_time": "2024-05-30T08:52:54.906408",
     "status": "completed"
    },
    "tags": []
   },
   "outputs": [
    {
     "name": "stdout",
     "output_type": "stream",
     "text": [
      "Number of rows loaded... 1862495\n",
      "2897\n"
     ]
    },
    {
     "name": "stdout",
     "output_type": "stream",
     "text": [
      "757\n"
     ]
    },
    {
     "data": {
      "text/html": [
       "<div>\n",
       "<style scoped>\n",
       "    .dataframe tbody tr th:only-of-type {\n",
       "        vertical-align: middle;\n",
       "    }\n",
       "\n",
       "    .dataframe tbody tr th {\n",
       "        vertical-align: top;\n",
       "    }\n",
       "\n",
       "    .dataframe thead th {\n",
       "        text-align: right;\n",
       "    }\n",
       "</style>\n",
       "<table border=\"1\" class=\"dataframe\">\n",
       "  <thead>\n",
       "    <tr style=\"text-align: right;\">\n",
       "      <th></th>\n",
       "      <th>date</th>\n",
       "      <th>premise_code</th>\n",
       "      <th>item_code</th>\n",
       "      <th>price</th>\n",
       "      <th>premise</th>\n",
       "      <th>address</th>\n",
       "      <th>premise_type</th>\n",
       "      <th>state</th>\n",
       "      <th>district</th>\n",
       "      <th>item</th>\n",
       "      <th>unit</th>\n",
       "      <th>item_group</th>\n",
       "      <th>item_category</th>\n",
       "      <th>etl_time</th>\n",
       "    </tr>\n",
       "  </thead>\n",
       "  <tbody>\n",
       "    <tr>\n",
       "      <th>632659</th>\n",
       "      <td>2022-02-12</td>\n",
       "      <td>3178</td>\n",
       "      <td>114</td>\n",
       "      <td>5.40</td>\n",
       "      <td>AEON BIG SUBANG JAYA</td>\n",
       "      <td>NO 3 JALAN SS16/1,47500 SUBANG JAYA, SELANGOR ...</td>\n",
       "      <td>Hypermarket</td>\n",
       "      <td>Selangor</td>\n",
       "      <td>Petaling</td>\n",
       "      <td>TOMATO</td>\n",
       "      <td>1kg</td>\n",
       "      <td>BARANGAN SEGAR</td>\n",
       "      <td>SAYUR-SAYURAN</td>\n",
       "      <td>2024-05-30T08:52:56.133883</td>\n",
       "    </tr>\n",
       "    <tr>\n",
       "      <th>1205752</th>\n",
       "      <td>2022-02-21</td>\n",
       "      <td>3178</td>\n",
       "      <td>1624</td>\n",
       "      <td>78.70</td>\n",
       "      <td>AEON BIG SUBANG JAYA</td>\n",
       "      <td>NO 3 JALAN SS16/1,47500 SUBANG JAYA, SELANGOR ...</td>\n",
       "      <td>Hypermarket</td>\n",
       "      <td>Selangor</td>\n",
       "      <td>Petaling</td>\n",
       "      <td>S-26 GOLD SMA RUMUSAN BAYI LANGKAH 1 - (KOTAK)</td>\n",
       "      <td>600 g</td>\n",
       "      <td>SUSU DAN BARANGAN BAYI</td>\n",
       "      <td>SUSU BAYI</td>\n",
       "      <td>2024-05-30T08:52:56.133883</td>\n",
       "    </tr>\n",
       "    <tr>\n",
       "      <th>1434545</th>\n",
       "      <td>2022-02-23</td>\n",
       "      <td>3178</td>\n",
       "      <td>60</td>\n",
       "      <td>48.90</td>\n",
       "      <td>AEON BIG SUBANG JAYA</td>\n",
       "      <td>NO 3 JALAN SS16/1,47500 SUBANG JAYA, SELANGOR ...</td>\n",
       "      <td>Hypermarket</td>\n",
       "      <td>Selangor</td>\n",
       "      <td>Petaling</td>\n",
       "      <td>IKAN MERAH (b\\t% 1 KILOGRAM SEEKOR)</td>\n",
       "      <td>1kg</td>\n",
       "      <td>BARANGAN SEGAR</td>\n",
       "      <td>BAHAN LAUT</td>\n",
       "      <td>2024-05-30T08:52:56.133883</td>\n",
       "    </tr>\n",
       "    <tr>\n",
       "      <th>1597604</th>\n",
       "      <td>2022-02-26</td>\n",
       "      <td>3178</td>\n",
       "      <td>1111</td>\n",
       "      <td>11.55</td>\n",
       "      <td>AEON BIG SUBANG JAYA</td>\n",
       "      <td>NO 3 JALAN SS16/1,47500 SUBANG JAYA, SELANGOR ...</td>\n",
       "      <td>Hypermarket</td>\n",
       "      <td>Selangor</td>\n",
       "      <td>Petaling</td>\n",
       "      <td>TELUR AYAM GRED C</td>\n",
       "      <td>30 biji</td>\n",
       "      <td>BARANGAN SEGAR</td>\n",
       "      <td>TELUR</td>\n",
       "      <td>2024-05-30T08:52:56.133883</td>\n",
       "    </tr>\n",
       "    <tr>\n",
       "      <th>224460</th>\n",
       "      <td>2022-02-07</td>\n",
       "      <td>3178</td>\n",
       "      <td>1606</td>\n",
       "      <td>16.90</td>\n",
       "      <td>AEON BIG SUBANG JAYA</td>\n",
       "      <td>NO 3 JALAN SS16/1,47500 SUBANG JAYA, SELANGOR ...</td>\n",
       "      <td>Hypermarket</td>\n",
       "      <td>Selangor</td>\n",
       "      <td>Petaling</td>\n",
       "      <td>MENTEGA KACANG HALUS LADY'S CHOICE</td>\n",
       "      <td>500 g</td>\n",
       "      <td>BARANGAN BERBUNGKUS</td>\n",
       "      <td>SAPUAN (SPREADS)</td>\n",
       "      <td>2024-05-30T08:52:56.133883</td>\n",
       "    </tr>\n",
       "  </tbody>\n",
       "</table>\n",
       "</div>"
      ],
      "text/plain": [
       "              date  premise_code  item_code  price               premise  \\\n",
       "632659  2022-02-12          3178        114   5.40  AEON BIG SUBANG JAYA   \n",
       "1205752 2022-02-21          3178       1624  78.70  AEON BIG SUBANG JAYA   \n",
       "1434545 2022-02-23          3178         60  48.90  AEON BIG SUBANG JAYA   \n",
       "1597604 2022-02-26          3178       1111  11.55  AEON BIG SUBANG JAYA   \n",
       "224460  2022-02-07          3178       1606  16.90  AEON BIG SUBANG JAYA   \n",
       "\n",
       "                                                   address premise_type  \\\n",
       "632659   NO 3 JALAN SS16/1,47500 SUBANG JAYA, SELANGOR ...  Hypermarket   \n",
       "1205752  NO 3 JALAN SS16/1,47500 SUBANG JAYA, SELANGOR ...  Hypermarket   \n",
       "1434545  NO 3 JALAN SS16/1,47500 SUBANG JAYA, SELANGOR ...  Hypermarket   \n",
       "1597604  NO 3 JALAN SS16/1,47500 SUBANG JAYA, SELANGOR ...  Hypermarket   \n",
       "224460   NO 3 JALAN SS16/1,47500 SUBANG JAYA, SELANGOR ...  Hypermarket   \n",
       "\n",
       "            state  district                                            item  \\\n",
       "632659   Selangor  Petaling                                          TOMATO   \n",
       "1205752  Selangor  Petaling  S-26 GOLD SMA RUMUSAN BAYI LANGKAH 1 - (KOTAK)   \n",
       "1434545  Selangor  Petaling             IKAN MERAH (b\\t% 1 KILOGRAM SEEKOR)   \n",
       "1597604  Selangor  Petaling                               TELUR AYAM GRED C   \n",
       "224460   Selangor  Petaling              MENTEGA KACANG HALUS LADY'S CHOICE   \n",
       "\n",
       "            unit              item_group     item_category  \\\n",
       "632659       1kg          BARANGAN SEGAR     SAYUR-SAYURAN   \n",
       "1205752    600 g  SUSU DAN BARANGAN BAYI         SUSU BAYI   \n",
       "1434545      1kg          BARANGAN SEGAR        BAHAN LAUT   \n",
       "1597604  30 biji          BARANGAN SEGAR             TELUR   \n",
       "224460     500 g     BARANGAN BERBUNGKUS  SAPUAN (SPREADS)   \n",
       "\n",
       "                           etl_time  \n",
       "632659   2024-05-30T08:52:56.133883  \n",
       "1205752  2024-05-30T08:52:56.133883  \n",
       "1434545  2024-05-30T08:52:56.133883  \n",
       "1597604  2024-05-30T08:52:56.133883  \n",
       "224460   2024-05-30T08:52:56.133883  "
      ]
     },
     "metadata": {},
     "output_type": "display_data"
    }
   ],
   "source": [
    "# Take a parameter \"date\" from Airflow dag_ETL_pricecatcher.py\n",
    "try:\n",
    "    date_of_file = date\n",
    "except:\n",
    "    # If no parameter is passed, give it default value\n",
    "    date_of_file = '2022-01'  #Format: YYYY-MM\n",
    "    \n",
    "# Read from DOSM API using pandas - Surveys\n",
    "df = pd.read_parquet(f'https://storage.data.gov.my/pricecatcher/pricecatcher_{date_of_file}.parquet')\n",
    "# Convert date column into datetime type\n",
    "if 'date' in df.columns: df['date'] = pd.to_datetime(df['date'])\n",
    "print('Number of rows loaded...',len(df))\n",
    "\n",
    "# Premise\n",
    "premise = pd.read_parquet('https://storage.data.gov.my/pricecatcher/lookup_premise.parquet')\n",
    "print(len(premise))\n",
    "premise.head()\n",
    "\n",
    "# Items\n",
    "items = pd.read_parquet('https://storage.data.gov.my/pricecatcher/lookup_item.parquet')\n",
    "print(len(items))\n",
    "items.head()\n",
    "\n",
    "# Combine data\n",
    "merged_data_premise = df.merge(premise, how = 'left', left_on = 'premise_code', right_on = 'premise_code')\n",
    "merged_data = merged_data_premise.merge(items, how = 'left', left_on = 'item_code', right_on = 'item_code')\n",
    "\n",
    "# Only get AEON Subang Jaya data\n",
    "aeon_subang = merged_data.query('premise_code == 3178')\n",
    "aeon_subang.loc[:,['etl_time']] = datetime.now().isoformat()\n",
    "display(aeon_subang.sample(5))"
   ]
  },
  {
   "cell_type": "code",
   "execution_count": 5,
   "id": "b8c084a9",
   "metadata": {
    "execution": {
     "iopub.execute_input": "2024-05-30T08:52:56.171960Z",
     "iopub.status.busy": "2024-05-30T08:52:56.171646Z",
     "iopub.status.idle": "2024-05-30T08:52:56.205551Z",
     "shell.execute_reply": "2024-05-30T08:52:56.204599Z"
    },
    "papermill": {
     "duration": 0.045784,
     "end_time": "2024-05-30T08:52:56.207475",
     "exception": false,
     "start_time": "2024-05-30T08:52:56.161691",
     "status": "completed"
    },
    "tags": []
   },
   "outputs": [],
   "source": [
    "# Save the AEON Subang data to a parquet file\n",
    "aeon_subang.to_parquet(data_path + '/price_catcher_raw/aeon.parquet')"
   ]
  }
 ],
 "metadata": {
  "kernelspec": {
   "display_name": "python311env",
   "language": "python",
   "name": "python3"
  },
  "language_info": {
   "codemirror_mode": {
    "name": "ipython",
    "version": 3
   },
   "file_extension": ".py",
   "mimetype": "text/x-python",
   "name": "python",
   "nbconvert_exporter": "python",
   "pygments_lexer": "ipython3",
   "version": "3.11.8"
  },
  "papermill": {
   "default_parameters": {},
   "duration": 3.327881,
   "end_time": "2024-05-30T08:52:56.534027",
   "environment_variables": {},
   "exception": null,
   "input_path": "./working_files/dags/nb_price_catcher_daily_load.ipynb",
   "output_path": "./working_files/dags/papermill_logging/nb_price_catcher_daily_load.ipynb",
   "parameters": {
    "date": "2022-02"
   },
   "start_time": "2024-05-30T08:52:53.206146",
   "version": "2.5.0"
  }
 },
 "nbformat": 4,
 "nbformat_minor": 5
}