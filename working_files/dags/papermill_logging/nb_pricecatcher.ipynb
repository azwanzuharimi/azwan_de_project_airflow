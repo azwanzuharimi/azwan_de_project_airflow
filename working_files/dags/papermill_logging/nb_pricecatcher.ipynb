{
 "cells": [
  {
   "cell_type": "code",
   "execution_count": 1,
   "id": "07d50306",
   "metadata": {
    "execution": {
     "iopub.execute_input": "2024-05-29T19:53:10.221018Z",
     "iopub.status.busy": "2024-05-29T19:53:10.220660Z",
     "iopub.status.idle": "2024-05-29T19:53:10.230312Z",
     "shell.execute_reply": "2024-05-29T19:53:10.229418Z"
    },
    "papermill": {
     "duration": 0.019295,
     "end_time": "2024-05-29T19:53:10.231978",
     "exception": false,
     "start_time": "2024-05-29T19:53:10.212683",
     "status": "completed"
    },
    "tags": [
     "injected-parameters"
    ]
   },
   "outputs": [],
   "source": [
    "# Parameters\n",
    "date = \"2022-02\"\n"
   ]
  },
  {
   "cell_type": "code",
   "execution_count": 2,
   "id": "c6f2885a",
   "metadata": {
    "execution": {
     "iopub.execute_input": "2024-05-29T19:53:10.252234Z",
     "iopub.status.busy": "2024-05-29T19:53:10.251068Z",
     "iopub.status.idle": "2024-05-29T19:53:10.664140Z",
     "shell.execute_reply": "2024-05-29T19:53:10.663275Z"
    },
    "papermill": {
     "duration": 0.427825,
     "end_time": "2024-05-29T19:53:10.665984",
     "exception": false,
     "start_time": "2024-05-29T19:53:10.238159",
     "status": "completed"
    },
    "tags": []
   },
   "outputs": [],
   "source": [
    "import pandas as pd\n",
    "\n",
    "from datetime import datetime\n",
    "from pathlib import Path, PurePosixPath"
   ]
  },
  {
   "cell_type": "code",
   "execution_count": 3,
   "id": "c32b7417",
   "metadata": {
    "execution": {
     "iopub.execute_input": "2024-05-29T19:53:10.682822Z",
     "iopub.status.busy": "2024-05-29T19:53:10.681989Z",
     "iopub.status.idle": "2024-05-29T19:53:10.695207Z",
     "shell.execute_reply": "2024-05-29T19:53:10.692776Z"
    },
    "papermill": {
     "duration": 0.027948,
     "end_time": "2024-05-29T19:53:10.700172",
     "exception": false,
     "start_time": "2024-05-29T19:53:10.672224",
     "status": "completed"
    },
    "tags": []
   },
   "outputs": [
    {
     "name": "stdout",
     "output_type": "stream",
     "text": [
      "/usr/local/airflow/working_files/data\n"
     ]
    }
   ],
   "source": [
    "# Note: This is for us to able to change where we run this code (either in my PC or Docker environment or from Airflow engine)\n",
    "# In Docker env follows Linux - e.g /usr/local/airflow//working_files/data\n",
    "# In PC follows Windows       - e.g. C:/Users/Azwan/Folder/DOSM/airflow/workingfiles/data/....\n",
    "\n",
    "# In Docker\n",
    "# -----------\n",
    "# If we run manually from inside notebook in Docker, the notebook will be running from           /usr/local/airflow/working_files\n",
    "# But if run from Airflow engine, it will run from entrypoint.sh $AIRFLOW_HOME variable which is /usr/local/airflow\n",
    "# The following is a workaround\n",
    "\n",
    "data_path = Path().absolute().as_posix().split('working_files')[0]  + '/working_files/data'\n",
    "print(data_path)"
   ]
  },
  {
   "cell_type": "code",
   "execution_count": 4,
   "id": "ec1a0907",
   "metadata": {
    "execution": {
     "iopub.execute_input": "2024-05-29T19:53:10.726522Z",
     "iopub.status.busy": "2024-05-29T19:53:10.725832Z",
     "iopub.status.idle": "2024-05-29T19:53:12.623697Z",
     "shell.execute_reply": "2024-05-29T19:53:12.622230Z"
    },
    "papermill": {
     "duration": 1.912004,
     "end_time": "2024-05-29T19:53:12.626622",
     "exception": false,
     "start_time": "2024-05-29T19:53:10.714618",
     "status": "completed"
    },
    "tags": []
   },
   "outputs": [
    {
     "name": "stdout",
     "output_type": "stream",
     "text": [
      "Number of rows loaded... 1862495\n",
      "2897\n"
     ]
    },
    {
     "name": "stdout",
     "output_type": "stream",
     "text": [
      "757\n"
     ]
    },
    {
     "data": {
      "text/html": [
       "<div>\n",
       "<style scoped>\n",
       "    .dataframe tbody tr th:only-of-type {\n",
       "        vertical-align: middle;\n",
       "    }\n",
       "\n",
       "    .dataframe tbody tr th {\n",
       "        vertical-align: top;\n",
       "    }\n",
       "\n",
       "    .dataframe thead th {\n",
       "        text-align: right;\n",
       "    }\n",
       "</style>\n",
       "<table border=\"1\" class=\"dataframe\">\n",
       "  <thead>\n",
       "    <tr style=\"text-align: right;\">\n",
       "      <th></th>\n",
       "      <th>date</th>\n",
       "      <th>premise_code</th>\n",
       "      <th>item_code</th>\n",
       "      <th>price</th>\n",
       "      <th>premise</th>\n",
       "      <th>address</th>\n",
       "      <th>premise_type</th>\n",
       "      <th>state</th>\n",
       "      <th>district</th>\n",
       "      <th>item</th>\n",
       "      <th>unit</th>\n",
       "      <th>item_group</th>\n",
       "      <th>item_category</th>\n",
       "      <th>etl_time</th>\n",
       "    </tr>\n",
       "  </thead>\n",
       "  <tbody>\n",
       "    <tr>\n",
       "      <th>579687</th>\n",
       "      <td>2022-02-11</td>\n",
       "      <td>3178</td>\n",
       "      <td>114</td>\n",
       "      <td>5.40</td>\n",
       "      <td>AEON BIG SUBANG JAYA</td>\n",
       "      <td>NO 3 JALAN SS16/1,47500 SUBANG JAYA, SELANGOR ...</td>\n",
       "      <td>Hypermarket</td>\n",
       "      <td>Selangor</td>\n",
       "      <td>Petaling</td>\n",
       "      <td>TOMATO</td>\n",
       "      <td>1kg</td>\n",
       "      <td>BARANGAN SEGAR</td>\n",
       "      <td>SAYUR-SAYURAN</td>\n",
       "      <td>2024-05-29T19:53:12.597947</td>\n",
       "    </tr>\n",
       "    <tr>\n",
       "      <th>1729033</th>\n",
       "      <td>2022-02-28</td>\n",
       "      <td>3178</td>\n",
       "      <td>1440</td>\n",
       "      <td>3.59</td>\n",
       "      <td>AEON BIG SUBANG JAYA</td>\n",
       "      <td>NO 3 JALAN SS16/1,47500 SUBANG JAYA, SELANGOR ...</td>\n",
       "      <td>Hypermarket</td>\n",
       "      <td>Selangor</td>\n",
       "      <td>Petaling</td>\n",
       "      <td>BAWANG BESAR IMPORT (INDIA)</td>\n",
       "      <td>1kg</td>\n",
       "      <td>BARANGAN KERING</td>\n",
       "      <td>BAWANG</td>\n",
       "      <td>2024-05-29T19:53:12.597947</td>\n",
       "    </tr>\n",
       "    <tr>\n",
       "      <th>1729023</th>\n",
       "      <td>2022-02-28</td>\n",
       "      <td>3178</td>\n",
       "      <td>1136</td>\n",
       "      <td>4.01</td>\n",
       "      <td>AEON BIG SUBANG JAYA</td>\n",
       "      <td>NO 3 JALAN SS16/1,47500 SUBANG JAYA, SELANGOR ...</td>\n",
       "      <td>Hypermarket</td>\n",
       "      <td>Selangor</td>\n",
       "      <td>Petaling</td>\n",
       "      <td>KICAP MASIN ADABI</td>\n",
       "      <td>340ml</td>\n",
       "      <td>BARANGAN BERBUNGKUS</td>\n",
       "      <td>KICAP DAN SOS</td>\n",
       "      <td>2024-05-29T19:53:12.597947</td>\n",
       "    </tr>\n",
       "    <tr>\n",
       "      <th>760981</th>\n",
       "      <td>2022-02-14</td>\n",
       "      <td>3178</td>\n",
       "      <td>1610</td>\n",
       "      <td>6.35</td>\n",
       "      <td>AEON BIG SUBANG JAYA</td>\n",
       "      <td>NO 3 JALAN SS16/1,47500 SUBANG JAYA, SELANGOR ...</td>\n",
       "      <td>Hypermarket</td>\n",
       "      <td>Selangor</td>\n",
       "      <td>Petaling</td>\n",
       "      <td>SANTAN KELAPA JENAMA M&amp;S</td>\n",
       "      <td>500 ml</td>\n",
       "      <td>BARANGAN BERBUNGKUS</td>\n",
       "      <td>SANTAN (KOTAK)</td>\n",
       "      <td>2024-05-29T19:53:12.597947</td>\n",
       "    </tr>\n",
       "    <tr>\n",
       "      <th>905756</th>\n",
       "      <td>2022-02-15</td>\n",
       "      <td>3178</td>\n",
       "      <td>64</td>\n",
       "      <td>16.90</td>\n",
       "      <td>AEON BIG SUBANG JAYA</td>\n",
       "      <td>NO 3 JALAN SS16/1,47500 SUBANG JAYA, SELANGOR ...</td>\n",
       "      <td>Hypermarket</td>\n",
       "      <td>Selangor</td>\n",
       "      <td>Petaling</td>\n",
       "      <td>KEPALA IKAN MERAH</td>\n",
       "      <td>1kg</td>\n",
       "      <td>BARANGAN SEGAR</td>\n",
       "      <td>BAHAN LAUT</td>\n",
       "      <td>2024-05-29T19:53:12.597947</td>\n",
       "    </tr>\n",
       "  </tbody>\n",
       "</table>\n",
       "</div>"
      ],
      "text/plain": [
       "              date  premise_code  item_code  price               premise  \\\n",
       "579687  2022-02-11          3178        114   5.40  AEON BIG SUBANG JAYA   \n",
       "1729033 2022-02-28          3178       1440   3.59  AEON BIG SUBANG JAYA   \n",
       "1729023 2022-02-28          3178       1136   4.01  AEON BIG SUBANG JAYA   \n",
       "760981  2022-02-14          3178       1610   6.35  AEON BIG SUBANG JAYA   \n",
       "905756  2022-02-15          3178         64  16.90  AEON BIG SUBANG JAYA   \n",
       "\n",
       "                                                   address premise_type  \\\n",
       "579687   NO 3 JALAN SS16/1,47500 SUBANG JAYA, SELANGOR ...  Hypermarket   \n",
       "1729033  NO 3 JALAN SS16/1,47500 SUBANG JAYA, SELANGOR ...  Hypermarket   \n",
       "1729023  NO 3 JALAN SS16/1,47500 SUBANG JAYA, SELANGOR ...  Hypermarket   \n",
       "760981   NO 3 JALAN SS16/1,47500 SUBANG JAYA, SELANGOR ...  Hypermarket   \n",
       "905756   NO 3 JALAN SS16/1,47500 SUBANG JAYA, SELANGOR ...  Hypermarket   \n",
       "\n",
       "            state  district                         item    unit  \\\n",
       "579687   Selangor  Petaling                       TOMATO     1kg   \n",
       "1729033  Selangor  Petaling  BAWANG BESAR IMPORT (INDIA)     1kg   \n",
       "1729023  Selangor  Petaling            KICAP MASIN ADABI   340ml   \n",
       "760981   Selangor  Petaling     SANTAN KELAPA JENAMA M&S  500 ml   \n",
       "905756   Selangor  Petaling            KEPALA IKAN MERAH     1kg   \n",
       "\n",
       "                  item_group   item_category                    etl_time  \n",
       "579687        BARANGAN SEGAR   SAYUR-SAYURAN  2024-05-29T19:53:12.597947  \n",
       "1729033      BARANGAN KERING          BAWANG  2024-05-29T19:53:12.597947  \n",
       "1729023  BARANGAN BERBUNGKUS   KICAP DAN SOS  2024-05-29T19:53:12.597947  \n",
       "760981   BARANGAN BERBUNGKUS  SANTAN (KOTAK)  2024-05-29T19:53:12.597947  \n",
       "905756        BARANGAN SEGAR      BAHAN LAUT  2024-05-29T19:53:12.597947  "
      ]
     },
     "metadata": {},
     "output_type": "display_data"
    }
   ],
   "source": [
    "# Take a parameter \"date\" from Airflow dag_ETL_pricecatcher.py\n",
    "try:\n",
    "    date_of_file = date\n",
    "except:\n",
    "    # If no parameter is passed, give it default value\n",
    "    date_of_file = '2022-01'  #Format: YYYY-MM\n",
    "    \n",
    "# Read from DOSM API using pandas - Surveys\n",
    "df = pd.read_parquet(f'https://storage.data.gov.my/pricecatcher/pricecatcher_{date_of_file}.parquet')\n",
    "# Convert date column into datetime type\n",
    "if 'date' in df.columns: df['date'] = pd.to_datetime(df['date'])\n",
    "print('Number of rows loaded...',len(df))\n",
    "\n",
    "# Premise\n",
    "premise = pd.read_parquet('https://storage.data.gov.my/pricecatcher/lookup_premise.parquet')\n",
    "print(len(premise))\n",
    "premise.head()\n",
    "\n",
    "# Items\n",
    "items = pd.read_parquet('https://storage.data.gov.my/pricecatcher/lookup_item.parquet')\n",
    "print(len(items))\n",
    "items.head()\n",
    "\n",
    "# Combine data\n",
    "merged_data_premise = df.merge(premise, how = 'left', left_on = 'premise_code', right_on = 'premise_code')\n",
    "merged_data = merged_data_premise.merge(items, how = 'left', left_on = 'item_code', right_on = 'item_code')\n",
    "\n",
    "# Only get AEON Subang Jaya data\n",
    "aeon_subang = merged_data.query('premise_code == 3178')\n",
    "aeon_subang.loc[:,['etl_time']] = datetime.now().isoformat()\n",
    "display(aeon_subang.sample(5))"
   ]
  },
  {
   "cell_type": "code",
   "execution_count": 5,
   "id": "b8c084a9",
   "metadata": {
    "execution": {
     "iopub.execute_input": "2024-05-29T19:53:12.653922Z",
     "iopub.status.busy": "2024-05-29T19:53:12.653288Z",
     "iopub.status.idle": "2024-05-29T19:53:12.719493Z",
     "shell.execute_reply": "2024-05-29T19:53:12.718445Z"
    },
    "papermill": {
     "duration": 0.08647,
     "end_time": "2024-05-29T19:53:12.721783",
     "exception": false,
     "start_time": "2024-05-29T19:53:12.635313",
     "status": "completed"
    },
    "tags": []
   },
   "outputs": [],
   "source": [
    "# Save the AEON Subang data to a parquet file\n",
    "aeon_subang.to_parquet(data_path + '/price_catcher_raw/aeon.parquet')"
   ]
  }
 ],
 "metadata": {
  "kernelspec": {
   "display_name": "python311env",
   "language": "python",
   "name": "python3"
  },
  "language_info": {
   "codemirror_mode": {
    "name": "ipython",
    "version": 3
   },
   "file_extension": ".py",
   "mimetype": "text/x-python",
   "name": "python",
   "nbconvert_exporter": "python",
   "pygments_lexer": "ipython3",
   "version": "3.11.8"
  },
  "papermill": {
   "default_parameters": {},
   "duration": 4.373323,
   "end_time": "2024-05-29T19:53:13.253215",
   "environment_variables": {},
   "exception": null,
   "input_path": "./working_files/dags/nb_pricecatcher.ipynb",
   "output_path": "./working_files/dags/papermill_logging/nb_pricecatcher.ipynb",
   "parameters": {
    "date": "2022-02"
   },
   "start_time": "2024-05-29T19:53:08.879892",
   "version": "2.5.0"
  }
 },
 "nbformat": 4,
 "nbformat_minor": 5
}