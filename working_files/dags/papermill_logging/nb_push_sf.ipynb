{
 "cells": [
  {
   "cell_type": "code",
   "execution_count": 1,
   "id": "19c373a6",
   "metadata": {
    "execution": {
     "iopub.execute_input": "2024-05-30T08:53:21.142719Z",
     "iopub.status.busy": "2024-05-30T08:53:21.141788Z",
     "iopub.status.idle": "2024-05-30T08:53:21.150056Z",
     "shell.execute_reply": "2024-05-30T08:53:21.149128Z"
    },
    "papermill": {
     "duration": 0.018805,
     "end_time": "2024-05-30T08:53:21.151593",
     "exception": false,
     "start_time": "2024-05-30T08:53:21.132788",
     "status": "completed"
    },
    "tags": [
     "injected-parameters"
    ]
   },
   "outputs": [],
   "source": [
    "# Parameters\n",
    "date = \"2022-02\"\n"
   ]
  },
  {
   "cell_type": "code",
   "execution_count": 2,
   "id": "5ed3902f",
   "metadata": {
    "execution": {
     "iopub.execute_input": "2024-05-30T08:53:21.174863Z",
     "iopub.status.busy": "2024-05-30T08:53:21.174381Z",
     "iopub.status.idle": "2024-05-30T08:53:21.844869Z",
     "shell.execute_reply": "2024-05-30T08:53:21.844008Z"
    },
    "papermill": {
     "duration": 0.686876,
     "end_time": "2024-05-30T08:53:21.846675",
     "exception": false,
     "start_time": "2024-05-30T08:53:21.159799",
     "status": "completed"
    },
    "tags": []
   },
   "outputs": [
    {
     "data": {
      "text/plain": [
       "True"
      ]
     },
     "execution_count": 2,
     "metadata": {},
     "output_type": "execute_result"
    }
   ],
   "source": [
    "import pandas as pd\n",
    "\n",
    "from snowflake.connector.pandas_tools import pd_writer\n",
    "import snowflake.connector.pandas_tools\n",
    "import snowflake.connector\n",
    "from datetime import datetime\n",
    "from pathlib import Path, PurePosixPath\n",
    "\n",
    "import os\n",
    "from dotenv import load_dotenv\n",
    "# Load env variable (to get credentials)\n",
    "load_dotenv(dotenv_path=Path().absolute().as_posix().split('working_files')[0]  + '/working_files/dags/.env')"
   ]
  },
  {
   "cell_type": "code",
   "execution_count": 3,
   "id": "115ba336",
   "metadata": {
    "execution": {
     "iopub.execute_input": "2024-05-30T08:53:21.864883Z",
     "iopub.status.busy": "2024-05-30T08:53:21.864028Z",
     "iopub.status.idle": "2024-05-30T08:53:21.914136Z",
     "shell.execute_reply": "2024-05-30T08:53:21.913125Z"
    },
    "papermill": {
     "duration": 0.061332,
     "end_time": "2024-05-30T08:53:21.915510",
     "exception": false,
     "start_time": "2024-05-30T08:53:21.854178",
     "status": "completed"
    },
    "tags": []
   },
   "outputs": [
    {
     "data": {
      "text/html": [
       "<div>\n",
       "<style scoped>\n",
       "    .dataframe tbody tr th:only-of-type {\n",
       "        vertical-align: middle;\n",
       "    }\n",
       "\n",
       "    .dataframe tbody tr th {\n",
       "        vertical-align: top;\n",
       "    }\n",
       "\n",
       "    .dataframe thead th {\n",
       "        text-align: right;\n",
       "    }\n",
       "</style>\n",
       "<table border=\"1\" class=\"dataframe\">\n",
       "  <thead>\n",
       "    <tr style=\"text-align: right;\">\n",
       "      <th></th>\n",
       "      <th>date</th>\n",
       "      <th>premise_code</th>\n",
       "      <th>item_code</th>\n",
       "      <th>price</th>\n",
       "      <th>premise</th>\n",
       "      <th>address</th>\n",
       "      <th>premise_type</th>\n",
       "      <th>state</th>\n",
       "      <th>district</th>\n",
       "      <th>item</th>\n",
       "      <th>unit</th>\n",
       "      <th>item_group</th>\n",
       "      <th>item_category</th>\n",
       "      <th>etl_time</th>\n",
       "    </tr>\n",
       "  </thead>\n",
       "  <tbody>\n",
       "    <tr>\n",
       "      <th>10351</th>\n",
       "      <td>2022-02-03</td>\n",
       "      <td>3178</td>\n",
       "      <td>1</td>\n",
       "      <td>9.05</td>\n",
       "      <td>AEON BIG SUBANG JAYA</td>\n",
       "      <td>NO 3 JALAN SS16/1,47500 SUBANG JAYA, SELANGOR ...</td>\n",
       "      <td>Hypermarket</td>\n",
       "      <td>Selangor</td>\n",
       "      <td>Petaling</td>\n",
       "      <td>AYAM BERSIH - STANDARD</td>\n",
       "      <td>1kg</td>\n",
       "      <td>BARANGAN SEGAR</td>\n",
       "      <td>AYAM</td>\n",
       "      <td>2024-05-30T08:52:56.133883</td>\n",
       "    </tr>\n",
       "    <tr>\n",
       "      <th>10352</th>\n",
       "      <td>2022-02-03</td>\n",
       "      <td>3178</td>\n",
       "      <td>16</td>\n",
       "      <td>4.70</td>\n",
       "      <td>AEON BIG SUBANG JAYA</td>\n",
       "      <td>NO 3 JALAN SS16/1,47500 SUBANG JAYA, SELANGOR ...</td>\n",
       "      <td>Hypermarket</td>\n",
       "      <td>Selangor</td>\n",
       "      <td>Petaling</td>\n",
       "      <td>BETIK BIASA</td>\n",
       "      <td>1kg</td>\n",
       "      <td>BARANGAN SEGAR</td>\n",
       "      <td>BUAH-BUAHAN</td>\n",
       "      <td>2024-05-30T08:52:56.133883</td>\n",
       "    </tr>\n",
       "    <tr>\n",
       "      <th>10353</th>\n",
       "      <td>2022-02-03</td>\n",
       "      <td>3178</td>\n",
       "      <td>18</td>\n",
       "      <td>5.90</td>\n",
       "      <td>AEON BIG SUBANG JAYA</td>\n",
       "      <td>NO 3 JALAN SS16/1,47500 SUBANG JAYA, SELANGOR ...</td>\n",
       "      <td>Hypermarket</td>\n",
       "      <td>Selangor</td>\n",
       "      <td>Petaling</td>\n",
       "      <td>PISANG BERANGAN</td>\n",
       "      <td>1kg</td>\n",
       "      <td>BARANGAN SEGAR</td>\n",
       "      <td>BUAH-BUAHAN</td>\n",
       "      <td>2024-05-30T08:52:56.133883</td>\n",
       "    </tr>\n",
       "    <tr>\n",
       "      <th>10354</th>\n",
       "      <td>2022-02-03</td>\n",
       "      <td>3178</td>\n",
       "      <td>19</td>\n",
       "      <td>6.50</td>\n",
       "      <td>AEON BIG SUBANG JAYA</td>\n",
       "      <td>NO 3 JALAN SS16/1,47500 SUBANG JAYA, SELANGOR ...</td>\n",
       "      <td>Hypermarket</td>\n",
       "      <td>Selangor</td>\n",
       "      <td>Petaling</td>\n",
       "      <td>PISANG EMAS</td>\n",
       "      <td>1kg</td>\n",
       "      <td>BARANGAN SEGAR</td>\n",
       "      <td>BUAH-BUAHAN</td>\n",
       "      <td>2024-05-30T08:52:56.133883</td>\n",
       "    </tr>\n",
       "    <tr>\n",
       "      <th>10355</th>\n",
       "      <td>2022-02-03</td>\n",
       "      <td>3178</td>\n",
       "      <td>21</td>\n",
       "      <td>4.20</td>\n",
       "      <td>AEON BIG SUBANG JAYA</td>\n",
       "      <td>NO 3 JALAN SS16/1,47500 SUBANG JAYA, SELANGOR ...</td>\n",
       "      <td>Hypermarket</td>\n",
       "      <td>Selangor</td>\n",
       "      <td>Petaling</td>\n",
       "      <td>TEMBIKAI MERAH TANPA BIJI</td>\n",
       "      <td>1kg</td>\n",
       "      <td>BARANGAN SEGAR</td>\n",
       "      <td>BUAH-BUAHAN</td>\n",
       "      <td>2024-05-30T08:52:56.133883</td>\n",
       "    </tr>\n",
       "  </tbody>\n",
       "</table>\n",
       "</div>"
      ],
      "text/plain": [
       "            date  premise_code  item_code  price               premise  \\\n",
       "10351 2022-02-03          3178          1   9.05  AEON BIG SUBANG JAYA   \n",
       "10352 2022-02-03          3178         16   4.70  AEON BIG SUBANG JAYA   \n",
       "10353 2022-02-03          3178         18   5.90  AEON BIG SUBANG JAYA   \n",
       "10354 2022-02-03          3178         19   6.50  AEON BIG SUBANG JAYA   \n",
       "10355 2022-02-03          3178         21   4.20  AEON BIG SUBANG JAYA   \n",
       "\n",
       "                                                 address premise_type  \\\n",
       "10351  NO 3 JALAN SS16/1,47500 SUBANG JAYA, SELANGOR ...  Hypermarket   \n",
       "10352  NO 3 JALAN SS16/1,47500 SUBANG JAYA, SELANGOR ...  Hypermarket   \n",
       "10353  NO 3 JALAN SS16/1,47500 SUBANG JAYA, SELANGOR ...  Hypermarket   \n",
       "10354  NO 3 JALAN SS16/1,47500 SUBANG JAYA, SELANGOR ...  Hypermarket   \n",
       "10355  NO 3 JALAN SS16/1,47500 SUBANG JAYA, SELANGOR ...  Hypermarket   \n",
       "\n",
       "          state  district                       item unit      item_group  \\\n",
       "10351  Selangor  Petaling     AYAM BERSIH - STANDARD  1kg  BARANGAN SEGAR   \n",
       "10352  Selangor  Petaling                BETIK BIASA  1kg  BARANGAN SEGAR   \n",
       "10353  Selangor  Petaling            PISANG BERANGAN  1kg  BARANGAN SEGAR   \n",
       "10354  Selangor  Petaling                PISANG EMAS  1kg  BARANGAN SEGAR   \n",
       "10355  Selangor  Petaling  TEMBIKAI MERAH TANPA BIJI  1kg  BARANGAN SEGAR   \n",
       "\n",
       "      item_category                    etl_time  \n",
       "10351          AYAM  2024-05-30T08:52:56.133883  \n",
       "10352   BUAH-BUAHAN  2024-05-30T08:52:56.133883  \n",
       "10353   BUAH-BUAHAN  2024-05-30T08:52:56.133883  \n",
       "10354   BUAH-BUAHAN  2024-05-30T08:52:56.133883  \n",
       "10355   BUAH-BUAHAN  2024-05-30T08:52:56.133883  "
      ]
     },
     "execution_count": 3,
     "metadata": {},
     "output_type": "execute_result"
    }
   ],
   "source": [
    "# Read AEON Subang data from parquet file which was saved previously\n",
    "data_path = Path().absolute().as_posix().split('working_files')[0]  + '/working_files/data'\n",
    "\n",
    "df_raw = pd.read_parquet(data_path + '/price_catcher_raw/aeon.parquet')\n",
    "df_raw.head()"
   ]
  },
  {
   "cell_type": "code",
   "execution_count": 4,
   "id": "ec914284",
   "metadata": {
    "execution": {
     "iopub.execute_input": "2024-05-30T08:53:21.940377Z",
     "iopub.status.busy": "2024-05-30T08:53:21.939527Z",
     "iopub.status.idle": "2024-05-30T08:53:22.962481Z",
     "shell.execute_reply": "2024-05-30T08:53:22.960797Z"
    },
    "papermill": {
     "duration": 1.040911,
     "end_time": "2024-05-30T08:53:22.964601",
     "exception": false,
     "start_time": "2024-05-30T08:53:21.923690",
     "status": "completed"
    },
    "tags": []
   },
   "outputs": [],
   "source": [
    "# Connect to Snowflake via its API\n",
    "ctx = snowflake.connector.connect(  user=       os.environ['USER'],\n",
    "                                    password=   os.environ['PASSWORD'],\n",
    "                                    account=    os.environ['ACCOUNT'],\n",
    "                                    warehouse=  os.environ['WH'],\n",
    "                                    database=   os.environ['DB'],\n",
    "                                    schema=     os.environ['SCHEMA'],\n",
    "                                    role=       os.environ['ROLE'])\n",
    "\n",
    "# Get maximum date of data loaded so that we only import new data later\n",
    "try:\n",
    "    a = ctx.cursor().execute(\"SELECT MAX(CAST(DATE/1000000 as timestamp)) as date FROM PRICE_CATCHER.raw.aeon\")\n",
    "    # '\n",
    "except:\n",
    "    print(\"Table doesnt exist, creating....\")\n",
    "    # Automatically create a DB & Schema if it doesnt exist yet\n",
    "    ctx.cursor().execute(\"CREATE DATABASE PRICE_CATCHER\")\n",
    "    ctx.cursor().execute(\"CREATE SCHEMA RAW\")\n",
    "    \n",
    "    # Automatically create a table if it doesnt exist yet\n",
    "    snowflake.connector.pandas_tools.write_pandas(\n",
    "                                            conn=ctx,\n",
    "                                            df = df_raw,\n",
    "                                            table_name='AEON',\n",
    "                                            database='PRICE_CATCHER',\n",
    "                                            schema='RAW', quote_identifiers=False,\n",
    "                                            auto_create_table = True\n",
    "                                            )\n",
    "    a = ctx.cursor().execute(\"SELECT MAX(CAST(DATE/1000000 as timestamp)) as date FROM PRICE_CATCHER.raw.aeon\")\n"
   ]
  },
  {
   "cell_type": "code",
   "execution_count": 5,
   "id": "65ca2243",
   "metadata": {
    "execution": {
     "iopub.execute_input": "2024-05-30T08:53:22.987093Z",
     "iopub.status.busy": "2024-05-30T08:53:22.986609Z",
     "iopub.status.idle": "2024-05-30T08:53:22.997405Z",
     "shell.execute_reply": "2024-05-30T08:53:22.996519Z"
    },
    "papermill": {
     "duration": 0.026085,
     "end_time": "2024-05-30T08:53:22.999689",
     "exception": false,
     "start_time": "2024-05-30T08:53:22.973604",
     "status": "completed"
    },
    "tags": []
   },
   "outputs": [
    {
     "data": {
      "text/html": [
       "<div>\n",
       "<style scoped>\n",
       "    .dataframe tbody tr th:only-of-type {\n",
       "        vertical-align: middle;\n",
       "    }\n",
       "\n",
       "    .dataframe tbody tr th {\n",
       "        vertical-align: top;\n",
       "    }\n",
       "\n",
       "    .dataframe thead th {\n",
       "        text-align: right;\n",
       "    }\n",
       "</style>\n",
       "<table border=\"1\" class=\"dataframe\">\n",
       "  <thead>\n",
       "    <tr style=\"text-align: right;\">\n",
       "      <th></th>\n",
       "      <th>DATE</th>\n",
       "    </tr>\n",
       "  </thead>\n",
       "  <tbody>\n",
       "    <tr>\n",
       "      <th>0</th>\n",
       "      <td>2022-02-28</td>\n",
       "    </tr>\n",
       "  </tbody>\n",
       "</table>\n",
       "</div>"
      ],
      "text/plain": [
       "        DATE\n",
       "0 2022-02-28"
      ]
     },
     "execution_count": 5,
     "metadata": {},
     "output_type": "execute_result"
    }
   ],
   "source": [
    "df = a.fetch_pandas_all()\n",
    "df.head()"
   ]
  },
  {
   "cell_type": "code",
   "execution_count": 6,
   "id": "f481f26c",
   "metadata": {
    "execution": {
     "iopub.execute_input": "2024-05-30T08:53:23.019708Z",
     "iopub.status.busy": "2024-05-30T08:53:23.019436Z",
     "iopub.status.idle": "2024-05-30T08:53:23.025914Z",
     "shell.execute_reply": "2024-05-30T08:53:23.025071Z"
    },
    "papermill": {
     "duration": 0.019041,
     "end_time": "2024-05-30T08:53:23.027452",
     "exception": false,
     "start_time": "2024-05-30T08:53:23.008411",
     "status": "completed"
    },
    "tags": []
   },
   "outputs": [
    {
     "data": {
      "text/plain": [
       "'2022-02-28'"
      ]
     },
     "execution_count": 6,
     "metadata": {},
     "output_type": "execute_result"
    }
   ],
   "source": [
    "try:\n",
    "    date_existing = df.DATE.dt.date.values[0].isoformat()\n",
    "except:\n",
    "    date_existing = '2020-01-01' # Set default value of the above contains nothing\n",
    "date_existing"
   ]
  },
  {
   "cell_type": "code",
   "execution_count": 7,
   "id": "4ca9cd3f",
   "metadata": {
    "execution": {
     "iopub.execute_input": "2024-05-30T08:53:23.048342Z",
     "iopub.status.busy": "2024-05-30T08:53:23.047707Z",
     "iopub.status.idle": "2024-05-30T08:53:23.054256Z",
     "shell.execute_reply": "2024-05-30T08:53:23.052866Z"
    },
    "papermill": {
     "duration": 0.021049,
     "end_time": "2024-05-30T08:53:23.057346",
     "exception": false,
     "start_time": "2024-05-30T08:53:23.036297",
     "status": "completed"
    },
    "tags": []
   },
   "outputs": [
    {
     "data": {
      "text/plain": [
       "'2022-02-28'"
      ]
     },
     "execution_count": 7,
     "metadata": {},
     "output_type": "execute_result"
    }
   ],
   "source": [
    "# Print the maximum date in the AEON Subang data\n",
    "new_date = df_raw['date'].max().date().isoformat()\n",
    "new_date"
   ]
  },
  {
   "cell_type": "code",
   "execution_count": 8,
   "id": "68e1833b",
   "metadata": {
    "execution": {
     "iopub.execute_input": "2024-05-30T08:53:23.075419Z",
     "iopub.status.busy": "2024-05-30T08:53:23.074978Z",
     "iopub.status.idle": "2024-05-30T08:53:23.083614Z",
     "shell.execute_reply": "2024-05-30T08:53:23.082413Z"
    },
    "papermill": {
     "duration": 0.020694,
     "end_time": "2024-05-30T08:53:23.085819",
     "exception": false,
     "start_time": "2024-05-30T08:53:23.065125",
     "status": "completed"
    },
    "tags": []
   },
   "outputs": [
    {
     "name": "stdout",
     "output_type": "stream",
     "text": [
      "0\n"
     ]
    }
   ],
   "source": [
    "# Filter rows that is not yet exist in Snowflake\n",
    "df_to_load = df_raw[df_raw['date'] > date_existing]\n",
    "print(len(df_to_load))"
   ]
  },
  {
   "cell_type": "code",
   "execution_count": 9,
   "id": "27304737",
   "metadata": {
    "execution": {
     "iopub.execute_input": "2024-05-30T08:53:23.106328Z",
     "iopub.status.busy": "2024-05-30T08:53:23.105924Z",
     "iopub.status.idle": "2024-05-30T08:53:25.119944Z",
     "shell.execute_reply": "2024-05-30T08:53:25.118826Z"
    },
    "papermill": {
     "duration": 2.027414,
     "end_time": "2024-05-30T08:53:25.121584",
     "exception": false,
     "start_time": "2024-05-30T08:53:23.094170",
     "status": "completed"
    },
    "tags": []
   },
   "outputs": [
    {
     "name": "stderr",
     "output_type": "stream",
     "text": [
      "/tmp/ipykernel_19499/2829828559.py:2: UserWarning: Pandas Dataframe has non-standard index of type <class 'pandas.core.indexes.base.Index'> which will not be written. Consider changing the index to pd.RangeIndex(start=0,...,step=1) or call reset_index() to keep index as column(s)\n",
      "  snowflake.connector.pandas_tools.write_pandas(\n"
     ]
    },
    {
     "data": {
      "text/plain": [
       "(True,\n",
       " 1,\n",
       " 0,\n",
       " [('jdkcmtdmhc/file0.txt', 'LOADED', 0, 0, 1, 0, None, None, None, None)])"
      ]
     },
     "execution_count": 9,
     "metadata": {},
     "output_type": "execute_result"
    }
   ],
   "source": [
    "# Write the filtered rows into Snowflake using the same connection credentials previously\n",
    "snowflake.connector.pandas_tools.write_pandas(\n",
    "    conn=ctx,\n",
    "    df = df_to_load,\n",
    "    table_name='AEON',\n",
    "    database='PRICE_CATCHER',\n",
    "    schema='RAW', quote_identifiers=False\n",
    ")"
   ]
  }
 ],
 "metadata": {
  "kernelspec": {
   "display_name": "Python 3",
   "language": "python",
   "name": "python3"
  },
  "language_info": {
   "codemirror_mode": {
    "name": "ipython",
    "version": 3
   },
   "file_extension": ".py",
   "mimetype": "text/x-python",
   "name": "python",
   "nbconvert_exporter": "python",
   "pygments_lexer": "ipython3",
   "version": "3.11.8"
  },
  "papermill": {
   "default_parameters": {},
   "duration": 5.605073,
   "end_time": "2024-05-30T08:53:25.549503",
   "environment_variables": {},
   "exception": null,
   "input_path": "./working_files/dags/nb_push_sf.ipynb",
   "output_path": "./working_files/dags/papermill_logging/nb_push_sf.ipynb",
   "parameters": {
    "date": "2022-02"
   },
   "start_time": "2024-05-30T08:53:19.944430",
   "version": "2.6.0"
  }
 },
 "nbformat": 4,
 "nbformat_minor": 5
}