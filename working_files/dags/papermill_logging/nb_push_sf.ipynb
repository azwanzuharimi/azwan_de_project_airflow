{
 "cells": [
  {
   "cell_type": "code",
   "execution_count": 1,
   "id": "355c06ec",
   "metadata": {
    "execution": {
     "iopub.execute_input": "2024-05-29T19:52:57.721409Z",
     "iopub.status.busy": "2024-05-29T19:52:57.720603Z",
     "iopub.status.idle": "2024-05-29T19:52:57.730395Z",
     "shell.execute_reply": "2024-05-29T19:52:57.729259Z"
    },
    "papermill": {
     "duration": 0.01958,
     "end_time": "2024-05-29T19:52:57.732631",
     "exception": false,
     "start_time": "2024-05-29T19:52:57.713051",
     "status": "completed"
    },
    "tags": [
     "injected-parameters"
    ]
   },
   "outputs": [],
   "source": [
    "# Parameters\n",
    "date = \"2022-02\"\n"
   ]
  },
  {
   "cell_type": "code",
   "execution_count": 2,
   "id": "4a646c6c",
   "metadata": {
    "execution": {
     "iopub.execute_input": "2024-05-29T19:52:57.751323Z",
     "iopub.status.busy": "2024-05-29T19:52:57.751058Z",
     "iopub.status.idle": "2024-05-29T19:52:58.519694Z",
     "shell.execute_reply": "2024-05-29T19:52:58.518786Z"
    },
    "papermill": {
     "duration": 0.780159,
     "end_time": "2024-05-29T19:52:58.521261",
     "exception": false,
     "start_time": "2024-05-29T19:52:57.741102",
     "status": "completed"
    },
    "tags": []
   },
   "outputs": [
    {
     "data": {
      "text/plain": [
       "True"
      ]
     },
     "execution_count": 2,
     "metadata": {},
     "output_type": "execute_result"
    }
   ],
   "source": [
    "import pandas as pd\n",
    "\n",
    "from snowflake.connector.pandas_tools import pd_writer\n",
    "import snowflake.connector.pandas_tools\n",
    "import snowflake.connector\n",
    "from datetime import datetime\n",
    "from pathlib import Path, PurePosixPath\n",
    "\n",
    "import os\n",
    "from dotenv import load_dotenv\n",
    "# Load env variable (to get credentials)\n",
    "load_dotenv(dotenv_path=Path().absolute().as_posix().split('working_files')[0]  + '/working_files/dags/.env')"
   ]
  },
  {
   "cell_type": "code",
   "execution_count": 3,
   "id": "f4b0640c",
   "metadata": {
    "execution": {
     "iopub.execute_input": "2024-05-29T19:52:58.539467Z",
     "iopub.status.busy": "2024-05-29T19:52:58.538462Z",
     "iopub.status.idle": "2024-05-29T19:52:58.587390Z",
     "shell.execute_reply": "2024-05-29T19:52:58.586538Z"
    },
    "papermill": {
     "duration": 0.061198,
     "end_time": "2024-05-29T19:52:58.589172",
     "exception": false,
     "start_time": "2024-05-29T19:52:58.527974",
     "status": "completed"
    },
    "tags": []
   },
   "outputs": [
    {
     "data": {
      "text/html": [
       "<div>\n",
       "<style scoped>\n",
       "    .dataframe tbody tr th:only-of-type {\n",
       "        vertical-align: middle;\n",
       "    }\n",
       "\n",
       "    .dataframe tbody tr th {\n",
       "        vertical-align: top;\n",
       "    }\n",
       "\n",
       "    .dataframe thead th {\n",
       "        text-align: right;\n",
       "    }\n",
       "</style>\n",
       "<table border=\"1\" class=\"dataframe\">\n",
       "  <thead>\n",
       "    <tr style=\"text-align: right;\">\n",
       "      <th></th>\n",
       "      <th>date</th>\n",
       "      <th>premise_code</th>\n",
       "      <th>item_code</th>\n",
       "      <th>price</th>\n",
       "      <th>premise</th>\n",
       "      <th>address</th>\n",
       "      <th>premise_type</th>\n",
       "      <th>state</th>\n",
       "      <th>district</th>\n",
       "      <th>item</th>\n",
       "      <th>unit</th>\n",
       "      <th>item_group</th>\n",
       "      <th>item_category</th>\n",
       "      <th>etl_time</th>\n",
       "    </tr>\n",
       "  </thead>\n",
       "  <tbody>\n",
       "    <tr>\n",
       "      <th>10351</th>\n",
       "      <td>2022-02-03</td>\n",
       "      <td>3178</td>\n",
       "      <td>1</td>\n",
       "      <td>9.05</td>\n",
       "      <td>AEON BIG SUBANG JAYA</td>\n",
       "      <td>NO 3 JALAN SS16/1,47500 SUBANG JAYA, SELANGOR ...</td>\n",
       "      <td>Hypermarket</td>\n",
       "      <td>Selangor</td>\n",
       "      <td>Petaling</td>\n",
       "      <td>AYAM BERSIH - STANDARD</td>\n",
       "      <td>1kg</td>\n",
       "      <td>BARANGAN SEGAR</td>\n",
       "      <td>AYAM</td>\n",
       "      <td>2024-05-29T19:52:48.446391</td>\n",
       "    </tr>\n",
       "    <tr>\n",
       "      <th>10352</th>\n",
       "      <td>2022-02-03</td>\n",
       "      <td>3178</td>\n",
       "      <td>16</td>\n",
       "      <td>4.70</td>\n",
       "      <td>AEON BIG SUBANG JAYA</td>\n",
       "      <td>NO 3 JALAN SS16/1,47500 SUBANG JAYA, SELANGOR ...</td>\n",
       "      <td>Hypermarket</td>\n",
       "      <td>Selangor</td>\n",
       "      <td>Petaling</td>\n",
       "      <td>BETIK BIASA</td>\n",
       "      <td>1kg</td>\n",
       "      <td>BARANGAN SEGAR</td>\n",
       "      <td>BUAH-BUAHAN</td>\n",
       "      <td>2024-05-29T19:52:48.446391</td>\n",
       "    </tr>\n",
       "    <tr>\n",
       "      <th>10353</th>\n",
       "      <td>2022-02-03</td>\n",
       "      <td>3178</td>\n",
       "      <td>18</td>\n",
       "      <td>5.90</td>\n",
       "      <td>AEON BIG SUBANG JAYA</td>\n",
       "      <td>NO 3 JALAN SS16/1,47500 SUBANG JAYA, SELANGOR ...</td>\n",
       "      <td>Hypermarket</td>\n",
       "      <td>Selangor</td>\n",
       "      <td>Petaling</td>\n",
       "      <td>PISANG BERANGAN</td>\n",
       "      <td>1kg</td>\n",
       "      <td>BARANGAN SEGAR</td>\n",
       "      <td>BUAH-BUAHAN</td>\n",
       "      <td>2024-05-29T19:52:48.446391</td>\n",
       "    </tr>\n",
       "    <tr>\n",
       "      <th>10354</th>\n",
       "      <td>2022-02-03</td>\n",
       "      <td>3178</td>\n",
       "      <td>19</td>\n",
       "      <td>6.50</td>\n",
       "      <td>AEON BIG SUBANG JAYA</td>\n",
       "      <td>NO 3 JALAN SS16/1,47500 SUBANG JAYA, SELANGOR ...</td>\n",
       "      <td>Hypermarket</td>\n",
       "      <td>Selangor</td>\n",
       "      <td>Petaling</td>\n",
       "      <td>PISANG EMAS</td>\n",
       "      <td>1kg</td>\n",
       "      <td>BARANGAN SEGAR</td>\n",
       "      <td>BUAH-BUAHAN</td>\n",
       "      <td>2024-05-29T19:52:48.446391</td>\n",
       "    </tr>\n",
       "    <tr>\n",
       "      <th>10355</th>\n",
       "      <td>2022-02-03</td>\n",
       "      <td>3178</td>\n",
       "      <td>21</td>\n",
       "      <td>4.20</td>\n",
       "      <td>AEON BIG SUBANG JAYA</td>\n",
       "      <td>NO 3 JALAN SS16/1,47500 SUBANG JAYA, SELANGOR ...</td>\n",
       "      <td>Hypermarket</td>\n",
       "      <td>Selangor</td>\n",
       "      <td>Petaling</td>\n",
       "      <td>TEMBIKAI MERAH TANPA BIJI</td>\n",
       "      <td>1kg</td>\n",
       "      <td>BARANGAN SEGAR</td>\n",
       "      <td>BUAH-BUAHAN</td>\n",
       "      <td>2024-05-29T19:52:48.446391</td>\n",
       "    </tr>\n",
       "  </tbody>\n",
       "</table>\n",
       "</div>"
      ],
      "text/plain": [
       "            date  premise_code  item_code  price               premise  \\\n",
       "10351 2022-02-03          3178          1   9.05  AEON BIG SUBANG JAYA   \n",
       "10352 2022-02-03          3178         16   4.70  AEON BIG SUBANG JAYA   \n",
       "10353 2022-02-03          3178         18   5.90  AEON BIG SUBANG JAYA   \n",
       "10354 2022-02-03          3178         19   6.50  AEON BIG SUBANG JAYA   \n",
       "10355 2022-02-03          3178         21   4.20  AEON BIG SUBANG JAYA   \n",
       "\n",
       "                                                 address premise_type  \\\n",
       "10351  NO 3 JALAN SS16/1,47500 SUBANG JAYA, SELANGOR ...  Hypermarket   \n",
       "10352  NO 3 JALAN SS16/1,47500 SUBANG JAYA, SELANGOR ...  Hypermarket   \n",
       "10353  NO 3 JALAN SS16/1,47500 SUBANG JAYA, SELANGOR ...  Hypermarket   \n",
       "10354  NO 3 JALAN SS16/1,47500 SUBANG JAYA, SELANGOR ...  Hypermarket   \n",
       "10355  NO 3 JALAN SS16/1,47500 SUBANG JAYA, SELANGOR ...  Hypermarket   \n",
       "\n",
       "          state  district                       item unit      item_group  \\\n",
       "10351  Selangor  Petaling     AYAM BERSIH - STANDARD  1kg  BARANGAN SEGAR   \n",
       "10352  Selangor  Petaling                BETIK BIASA  1kg  BARANGAN SEGAR   \n",
       "10353  Selangor  Petaling            PISANG BERANGAN  1kg  BARANGAN SEGAR   \n",
       "10354  Selangor  Petaling                PISANG EMAS  1kg  BARANGAN SEGAR   \n",
       "10355  Selangor  Petaling  TEMBIKAI MERAH TANPA BIJI  1kg  BARANGAN SEGAR   \n",
       "\n",
       "      item_category                    etl_time  \n",
       "10351          AYAM  2024-05-29T19:52:48.446391  \n",
       "10352   BUAH-BUAHAN  2024-05-29T19:52:48.446391  \n",
       "10353   BUAH-BUAHAN  2024-05-29T19:52:48.446391  \n",
       "10354   BUAH-BUAHAN  2024-05-29T19:52:48.446391  \n",
       "10355   BUAH-BUAHAN  2024-05-29T19:52:48.446391  "
      ]
     },
     "execution_count": 3,
     "metadata": {},
     "output_type": "execute_result"
    }
   ],
   "source": [
    "# Read AEON Subang data from parquet file which was saved previously\n",
    "data_path = Path().absolute().as_posix().split('working_files')[0]  + '/working_files/data'\n",
    "\n",
    "df_raw = pd.read_parquet(data_path + '/price_catcher_raw/aeon.parquet')\n",
    "df_raw.head()"
   ]
  },
  {
   "cell_type": "code",
   "execution_count": 4,
   "id": "5a7b14bb",
   "metadata": {
    "execution": {
     "iopub.execute_input": "2024-05-29T19:52:58.610487Z",
     "iopub.status.busy": "2024-05-29T19:52:58.609614Z",
     "iopub.status.idle": "2024-05-29T19:52:59.551623Z",
     "shell.execute_reply": "2024-05-29T19:52:59.550639Z"
    },
    "papermill": {
     "duration": 0.957229,
     "end_time": "2024-05-29T19:52:59.554358",
     "exception": false,
     "start_time": "2024-05-29T19:52:58.597129",
     "status": "completed"
    },
    "tags": []
   },
   "outputs": [],
   "source": [
    "# Connect to Snowflake via its API\n",
    "ctx = snowflake.connector.connect(  user=       os.environ['USER'],\n",
    "                                    password=   os.environ['PASSWORD'],\n",
    "                                    account=    os.environ['ACCOUNT'],\n",
    "                                    warehouse=  os.environ['WH'],\n",
    "                                    database=   os.environ['DB'],\n",
    "                                    schema=     os.environ['SCHEMA'],\n",
    "                                    role=       os.environ['ROLE'])\n",
    "\n",
    "# Get maximum date of data loaded so that we only import new data later\n",
    "try:\n",
    "    a = ctx.cursor().execute(\"SELECT MAX(CAST(DATE/1000000 as timestamp)) as date FROM PRICE_CATCHER.raw.aeon\")\n",
    "    # '\n",
    "except:\n",
    "    print(\"Table doesnt exist, creating....\")\n",
    "    # Automatically create a DB & Schema if it doesnt exist yet\n",
    "    ctx.cursor().execute(\"CREATE DATABASE PRICE_CATCHER\")\n",
    "    ctx.cursor().execute(\"CREATE SCHEMA RAW\")\n",
    "    \n",
    "    # Automatically create a table if it doesnt exist yet\n",
    "    snowflake.connector.pandas_tools.write_pandas(\n",
    "                                            conn=ctx,\n",
    "                                            df = df_raw,\n",
    "                                            table_name='AEON',\n",
    "                                            database='PRICE_CATCHER',\n",
    "                                            schema='RAW', quote_identifiers=False,\n",
    "                                            auto_create_table = True\n",
    "                                            )\n",
    "    a = ctx.cursor().execute(\"SELECT MAX(CAST(DATE/1000000 as timestamp)) as date FROM PRICE_CATCHER.raw.aeon\")\n"
   ]
  },
  {
   "cell_type": "code",
   "execution_count": 5,
   "id": "d266c1e1",
   "metadata": {
    "execution": {
     "iopub.execute_input": "2024-05-29T19:52:59.572992Z",
     "iopub.status.busy": "2024-05-29T19:52:59.572600Z",
     "iopub.status.idle": "2024-05-29T19:52:59.582246Z",
     "shell.execute_reply": "2024-05-29T19:52:59.581522Z"
    },
    "papermill": {
     "duration": 0.022909,
     "end_time": "2024-05-29T19:52:59.584563",
     "exception": false,
     "start_time": "2024-05-29T19:52:59.561654",
     "status": "completed"
    },
    "tags": []
   },
   "outputs": [
    {
     "data": {
      "text/html": [
       "<div>\n",
       "<style scoped>\n",
       "    .dataframe tbody tr th:only-of-type {\n",
       "        vertical-align: middle;\n",
       "    }\n",
       "\n",
       "    .dataframe tbody tr th {\n",
       "        vertical-align: top;\n",
       "    }\n",
       "\n",
       "    .dataframe thead th {\n",
       "        text-align: right;\n",
       "    }\n",
       "</style>\n",
       "<table border=\"1\" class=\"dataframe\">\n",
       "  <thead>\n",
       "    <tr style=\"text-align: right;\">\n",
       "      <th></th>\n",
       "      <th>DATE</th>\n",
       "    </tr>\n",
       "  </thead>\n",
       "  <tbody>\n",
       "    <tr>\n",
       "      <th>0</th>\n",
       "      <td>2022-02-28</td>\n",
       "    </tr>\n",
       "  </tbody>\n",
       "</table>\n",
       "</div>"
      ],
      "text/plain": [
       "        DATE\n",
       "0 2022-02-28"
      ]
     },
     "execution_count": 5,
     "metadata": {},
     "output_type": "execute_result"
    }
   ],
   "source": [
    "df = a.fetch_pandas_all()\n",
    "df.head()"
   ]
  },
  {
   "cell_type": "code",
   "execution_count": 6,
   "id": "773e13da",
   "metadata": {
    "execution": {
     "iopub.execute_input": "2024-05-29T19:52:59.606789Z",
     "iopub.status.busy": "2024-05-29T19:52:59.606085Z",
     "iopub.status.idle": "2024-05-29T19:52:59.612796Z",
     "shell.execute_reply": "2024-05-29T19:52:59.611978Z"
    },
    "papermill": {
     "duration": 0.022229,
     "end_time": "2024-05-29T19:52:59.614614",
     "exception": false,
     "start_time": "2024-05-29T19:52:59.592385",
     "status": "completed"
    },
    "tags": []
   },
   "outputs": [
    {
     "data": {
      "text/plain": [
       "'2022-02-28'"
      ]
     },
     "execution_count": 6,
     "metadata": {},
     "output_type": "execute_result"
    }
   ],
   "source": [
    "try:\n",
    "    date_existing = df.DATE.dt.date.values[0].isoformat()\n",
    "except:\n",
    "    date_existing = '2020-01-01' # Set default value of the above contains nothing\n",
    "date_existing"
   ]
  },
  {
   "cell_type": "code",
   "execution_count": 7,
   "id": "b0a80a8b",
   "metadata": {
    "execution": {
     "iopub.execute_input": "2024-05-29T19:52:59.635166Z",
     "iopub.status.busy": "2024-05-29T19:52:59.634126Z",
     "iopub.status.idle": "2024-05-29T19:52:59.640897Z",
     "shell.execute_reply": "2024-05-29T19:52:59.640023Z"
    },
    "papermill": {
     "duration": 0.021069,
     "end_time": "2024-05-29T19:52:59.642726",
     "exception": false,
     "start_time": "2024-05-29T19:52:59.621657",
     "status": "completed"
    },
    "tags": []
   },
   "outputs": [
    {
     "data": {
      "text/plain": [
       "'2022-02-28'"
      ]
     },
     "execution_count": 7,
     "metadata": {},
     "output_type": "execute_result"
    }
   ],
   "source": [
    "# Print the maximum date in the AEON Subang data\n",
    "new_date = df_raw['date'].max().date().isoformat()\n",
    "new_date"
   ]
  },
  {
   "cell_type": "code",
   "execution_count": 8,
   "id": "476ddbcd",
   "metadata": {
    "execution": {
     "iopub.execute_input": "2024-05-29T19:52:59.663307Z",
     "iopub.status.busy": "2024-05-29T19:52:59.662305Z",
     "iopub.status.idle": "2024-05-29T19:52:59.669447Z",
     "shell.execute_reply": "2024-05-29T19:52:59.668318Z"
    },
    "papermill": {
     "duration": 0.020281,
     "end_time": "2024-05-29T19:52:59.671132",
     "exception": false,
     "start_time": "2024-05-29T19:52:59.650851",
     "status": "completed"
    },
    "tags": []
   },
   "outputs": [
    {
     "name": "stdout",
     "output_type": "stream",
     "text": [
      "0\n"
     ]
    }
   ],
   "source": [
    "# Filter rows that is not yet exist in Snowflake\n",
    "df_to_load = df_raw[df_raw['date'] > date_existing]\n",
    "print(len(df_to_load))"
   ]
  },
  {
   "cell_type": "code",
   "execution_count": 9,
   "id": "2f1ca846",
   "metadata": {
    "execution": {
     "iopub.execute_input": "2024-05-29T19:52:59.691163Z",
     "iopub.status.busy": "2024-05-29T19:52:59.690345Z",
     "iopub.status.idle": "2024-05-29T19:53:01.301472Z",
     "shell.execute_reply": "2024-05-29T19:53:01.300516Z"
    },
    "papermill": {
     "duration": 1.624698,
     "end_time": "2024-05-29T19:53:01.303518",
     "exception": false,
     "start_time": "2024-05-29T19:52:59.678820",
     "status": "completed"
    },
    "tags": []
   },
   "outputs": [
    {
     "name": "stderr",
     "output_type": "stream",
     "text": [
      "/tmp/ipykernel_25571/2829828559.py:2: UserWarning: Pandas Dataframe has non-standard index of type <class 'pandas.core.indexes.base.Index'> which will not be written. Consider changing the index to pd.RangeIndex(start=0,...,step=1) or call reset_index() to keep index as column(s)\n",
      "  snowflake.connector.pandas_tools.write_pandas(\n"
     ]
    },
    {
     "data": {
      "text/plain": [
       "(True,\n",
       " 1,\n",
       " 0,\n",
       " [('garcvktwqf/file0.txt', 'LOADED', 0, 0, 1, 0, None, None, None, None)])"
      ]
     },
     "execution_count": 9,
     "metadata": {},
     "output_type": "execute_result"
    }
   ],
   "source": [
    "# Write the filtered rows into Snowflake using the same connection credentials previously\n",
    "snowflake.connector.pandas_tools.write_pandas(\n",
    "    conn=ctx,\n",
    "    df = df_to_load,\n",
    "    table_name='AEON',\n",
    "    database='PRICE_CATCHER',\n",
    "    schema='RAW', quote_identifiers=False\n",
    ")"
   ]
  }
 ],
 "metadata": {
  "kernelspec": {
   "display_name": "Python 3",
   "language": "python",
   "name": "python3"
  },
  "language_info": {
   "codemirror_mode": {
    "name": "ipython",
    "version": 3
   },
   "file_extension": ".py",
   "mimetype": "text/x-python",
   "name": "python",
   "nbconvert_exporter": "python",
   "pygments_lexer": "ipython3",
   "version": "3.11.8"
  },
  "papermill": {
   "default_parameters": {},
   "duration": 5.22633,
   "end_time": "2024-05-29T19:53:01.731366",
   "environment_variables": {},
   "exception": null,
   "input_path": "./working_files/dags/nb_push_sf.ipynb",
   "output_path": "./working_files/dags/papermill_logging/nb_push_sf.ipynb",
   "parameters": {
    "date": "2022-02"
   },
   "start_time": "2024-05-29T19:52:56.505036",
   "version": "2.6.0"
  }
 },
 "nbformat": 4,
 "nbformat_minor": 5
}